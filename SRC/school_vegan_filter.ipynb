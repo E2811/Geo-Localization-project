{
 "cells": [
  {
   "cell_type": "markdown",
   "metadata": {},
   "source": [
    "# Schools and vegan restaurants near companies"
   ]
  },
  {
   "cell_type": "code",
   "execution_count": 1,
   "metadata": {},
   "outputs": [],
   "source": [
    "from pymongo import MongoClient\n",
    "import pandas as pd\n",
    "import functions as F\n",
    "client = MongoClient(\"mongodb://localhost/companies\")\n",
    "db = client.get_database()"
   ]
  },
  {
   "cell_type": "code",
   "execution_count": 2,
   "metadata": {},
   "outputs": [],
   "source": [
    "companies = list(db.cleaned_companies.find({}))\n",
    "companies = pd.DataFrame(companies)"
   ]
  },
  {
   "cell_type": "markdown",
   "metadata": {},
   "source": [
    "Filtering those companies which do not have airports or starbucks near"
   ]
  },
  {
   "cell_type": "code",
   "execution_count": 3,
   "metadata": {},
   "outputs": [],
   "source": [
    "companies['airports'] = companies.location.apply(lambda x: F.geoQuery(db.airports, x))\n",
    "companies['starbucks'] = companies.location.apply(lambda x: F.geoQuery(db.starbucks, x))"
   ]
  },
  {
   "cell_type": "code",
   "execution_count": 4,
   "metadata": {},
   "outputs": [],
   "source": [
    "for col in ['airports','starbucks']:\n",
    "    companies = companies[(companies[col].apply(F.nonempty))]"
   ]
  },
  {
   "cell_type": "markdown",
   "metadata": {},
   "source": [
    "Create a school collection in mongodb and with google api search for schools close to the companies"
   ]
  },
  {
   "cell_type": "code",
   "execution_count": 5,
   "metadata": {},
   "outputs": [
    {
     "name": "stdout",
     "output_type": "stream",
     "text": [
      "https://maps.googleapis.com/maps/api/place/nearbysearch/json?location=37.566879,-122.323895&radius=1000&keyword=school\n",
      "https://maps.googleapis.com/maps/api/place/nearbysearch/json?location=40.757929,-73.985506&radius=1000&keyword=school\n",
      "https://maps.googleapis.com/maps/api/place/nearbysearch/json?location=53.707739,10.023246&radius=1000&keyword=school\n",
      "https://maps.googleapis.com/maps/api/place/nearbysearch/json?location=37.5645375,-122.3254705&radius=1000&keyword=school\n",
      "https://maps.googleapis.com/maps/api/place/nearbysearch/json?location=37.772323,-122.214897&radius=1000&keyword=school\n",
      "https://maps.googleapis.com/maps/api/place/nearbysearch/json?location=53.544711,-113.515769&radius=1000&keyword=school\n",
      "https://maps.googleapis.com/maps/api/place/nearbysearch/json?location=37.412069,-121.900366&radius=1000&keyword=school\n",
      "https://maps.googleapis.com/maps/api/place/nearbysearch/json?location=37.78424,-122.274771&radius=1000&keyword=school\n",
      "https://maps.googleapis.com/maps/api/place/nearbysearch/json?location=49.263588,-123.138565&radius=1000&keyword=school\n",
      "https://maps.googleapis.com/maps/api/place/nearbysearch/json?location=44.859587,-93.226503&radius=1000&keyword=school\n",
      "https://maps.googleapis.com/maps/api/place/nearbysearch/json?location=47.3912899,8.5082891&radius=1000&keyword=school\n",
      "https://maps.googleapis.com/maps/api/place/nearbysearch/json?location=42.330165,-83.045913&radius=1000&keyword=school\n",
      "https://maps.googleapis.com/maps/api/place/nearbysearch/json?location=33.989029,-118.462421&radius=1000&keyword=school\n",
      "https://maps.googleapis.com/maps/api/place/nearbysearch/json?location=59.337864,18.036587&radius=1000&keyword=school\n",
      "https://maps.googleapis.com/maps/api/place/nearbysearch/json?location=40.714056,-73.957854&radius=1000&keyword=school\n",
      "https://maps.googleapis.com/maps/api/place/nearbysearch/json?location=40.768058,-73.956599&radius=1000&keyword=school\n",
      "https://maps.googleapis.com/maps/api/place/nearbysearch/json?location=33.989029,-118.462421&radius=1000&keyword=school\n",
      "https://maps.googleapis.com/maps/api/place/nearbysearch/json?location=42.330165,-83.045913&radius=1000&keyword=school\n",
      "https://maps.googleapis.com/maps/api/place/nearbysearch/json?location=59.337864,18.036587&radius=1000&keyword=school\n",
      "https://maps.googleapis.com/maps/api/place/nearbysearch/json?location=40.714056,-73.957854&radius=1000&keyword=school\n",
      "https://maps.googleapis.com/maps/api/place/nearbysearch/json?location=40.768058,-73.956599&radius=1000&keyword=school\n",
      "https://maps.googleapis.com/maps/api/place/nearbysearch/json?location=37.55909,-122.321836&radius=1000&keyword=school\n",
      "https://maps.googleapis.com/maps/api/place/nearbysearch/json?location=43.068006,-89.39256&radius=1000&keyword=school\n",
      "https://maps.googleapis.com/maps/api/place/nearbysearch/json?location=46.2121463,6.1503245&radius=1000&keyword=school\n",
      "https://maps.googleapis.com/maps/api/place/nearbysearch/json?location=61.216583,-149.899597&radius=1000&keyword=school\n",
      "https://maps.googleapis.com/maps/api/place/nearbysearch/json?location=40.7645772,-73.9799007&radius=1000&keyword=school\n",
      "https://maps.googleapis.com/maps/api/place/nearbysearch/json?location=25.5230058,-103.4174464&radius=1000&keyword=school\n",
      "https://maps.googleapis.com/maps/api/place/nearbysearch/json?location=37.317649,-121.948532&radius=1000&keyword=school\n",
      "https://maps.googleapis.com/maps/api/place/nearbysearch/json?location=38.9169394,-77.0852258&radius=1000&keyword=school\n",
      "https://maps.googleapis.com/maps/api/place/nearbysearch/json?location=37.317735,-121.949417&radius=1000&keyword=school\n",
      "https://maps.googleapis.com/maps/api/place/nearbysearch/json?location=35.8535092,-78.8267112&radius=1000&keyword=school\n",
      "https://maps.googleapis.com/maps/api/place/nearbysearch/json?location=33.92854,-118.397818&radius=1000&keyword=school\n",
      "https://maps.googleapis.com/maps/api/place/nearbysearch/json?location=42.3983662,-71.0213788&radius=1000&keyword=school\n",
      "https://maps.googleapis.com/maps/api/place/nearbysearch/json?location=40.7454098,-73.9822211&radius=1000&keyword=school\n",
      "https://maps.googleapis.com/maps/api/place/nearbysearch/json?location=40.778334,-73.9453758&radius=1000&keyword=school\n",
      "https://maps.googleapis.com/maps/api/place/nearbysearch/json?location=42.362856,-71.083762&radius=1000&keyword=school\n",
      "https://maps.googleapis.com/maps/api/place/nearbysearch/json?location=49.2685125,-123.1783566&radius=1000&keyword=school\n",
      "https://maps.googleapis.com/maps/api/place/nearbysearch/json?location=33.989029,-118.462421&radius=1000&keyword=school\n",
      "https://maps.googleapis.com/maps/api/place/nearbysearch/json?location=42.3584308,-71.0597732&radius=1000&keyword=school\n",
      "https://maps.googleapis.com/maps/api/place/nearbysearch/json?location=53.5736401,10.0184565&radius=1000&keyword=school\n",
      "https://maps.googleapis.com/maps/api/place/nearbysearch/json?location=41.259751,-95.942336&radius=1000&keyword=school\n",
      "https://maps.googleapis.com/maps/api/place/nearbysearch/json?location=42.364014,-71.101375&radius=1000&keyword=school\n",
      "https://maps.googleapis.com/maps/api/place/nearbysearch/json?location=38.2571486,-85.7617724&radius=1000&keyword=school\n",
      "https://maps.googleapis.com/maps/api/place/nearbysearch/json?location=-23.5489433,-46.6388182&radius=1000&keyword=school\n",
      "https://maps.googleapis.com/maps/api/place/nearbysearch/json?location=37.772323,-122.214897&radius=1000&keyword=school\n",
      "https://maps.googleapis.com/maps/api/place/nearbysearch/json?location=32.8270045,-96.8432224&radius=1000&keyword=school\n",
      "https://maps.googleapis.com/maps/api/place/nearbysearch/json?location=40.746417,-73.983171&radius=1000&keyword=school\n",
      "https://maps.googleapis.com/maps/api/place/nearbysearch/json?location=55.6802318,12.524884&radius=1000&keyword=school\n",
      "https://maps.googleapis.com/maps/api/place/nearbysearch/json?location=55.6770321,12.5751278&radius=1000&keyword=school\n",
      "https://maps.googleapis.com/maps/api/place/nearbysearch/json?location=40.756054,-73.986951&radius=1000&keyword=school\n",
      "https://maps.googleapis.com/maps/api/place/nearbysearch/json?location=45.523875,-122.670399&radius=1000&keyword=school\n",
      "https://maps.googleapis.com/maps/api/place/nearbysearch/json?location=42.3647559,-71.1032591&radius=1000&keyword=school\n",
      "https://maps.googleapis.com/maps/api/place/nearbysearch/json?location=-23.5815208,-46.6773686&radius=1000&keyword=school\n",
      "https://maps.googleapis.com/maps/api/place/nearbysearch/json?location=49.261226,-123.1139268&radius=1000&keyword=school\n",
      "https://maps.googleapis.com/maps/api/place/nearbysearch/json?location=53.5688101,9.9819779&radius=1000&keyword=school\n",
      "https://maps.googleapis.com/maps/api/place/nearbysearch/json?location=26.706239,-80.0520862&radius=1000&keyword=school\n",
      "https://maps.googleapis.com/maps/api/place/nearbysearch/json?location=37.5646055,-122.3229235&radius=1000&keyword=school\n",
      "https://maps.googleapis.com/maps/api/place/nearbysearch/json?location=38.7071631,-9.135517&radius=1000&keyword=school\n",
      "https://maps.googleapis.com/maps/api/place/nearbysearch/json?location=42.3406534,-71.0680027&radius=1000&keyword=school\n",
      "https://maps.googleapis.com/maps/api/place/nearbysearch/json?location=43.264499,-2.9308322&radius=1000&keyword=school\n",
      "https://maps.googleapis.com/maps/api/place/nearbysearch/json?location=53.5622698,9.9490139&radius=1000&keyword=school\n",
      "https://maps.googleapis.com/maps/api/place/nearbysearch/json?location=25.774252,-80.190262&radius=1000&keyword=school\n",
      "https://maps.googleapis.com/maps/api/place/nearbysearch/json?location=40.756054,-73.986951&radius=1000&keyword=school\n",
      "https://maps.googleapis.com/maps/api/place/nearbysearch/json?location=37.320052,-121.877636&radius=1000&keyword=school\n",
      "https://maps.googleapis.com/maps/api/place/nearbysearch/json?location=26.0607497,-80.1899371&radius=1000&keyword=school\n",
      "https://maps.googleapis.com/maps/api/place/nearbysearch/json?location=41.581232,-93.621998&radius=1000&keyword=school\n",
      "https://maps.googleapis.com/maps/api/place/nearbysearch/json?location=37.6656476,-122.3843489&radius=1000&keyword=school\n",
      "https://maps.googleapis.com/maps/api/place/nearbysearch/json?location=32.781078,-96.797111&radius=1000&keyword=school\n",
      "https://maps.googleapis.com/maps/api/place/nearbysearch/json?location=38.905504,-77.05681&radius=1000&keyword=school\n"
     ]
    },
    {
     "name": "stdout",
     "output_type": "stream",
     "text": [
      "https://maps.googleapis.com/maps/api/place/nearbysearch/json?location=42.3672873,-71.0814466&radius=1000&keyword=school\n",
      "https://maps.googleapis.com/maps/api/place/nearbysearch/json?location=25.723408,-80.306331&radius=1000&keyword=school\n",
      "https://maps.googleapis.com/maps/api/place/nearbysearch/json?location=37.369195,-122.036849&radius=1000&keyword=school\n"
     ]
    }
   ],
   "source": [
    "db, school = F.connectMongo('school')\n",
    "schools = []\n",
    "schools_lista = F.near_place(companies, 1000, 'school',school, schools)"
   ]
  },
  {
   "cell_type": "markdown",
   "metadata": {},
   "source": [
    "Create a vegan collection in mongodb and with google api search for vegan restaurants near the companies"
   ]
  },
  {
   "cell_type": "code",
   "execution_count": 6,
   "metadata": {},
   "outputs": [
    {
     "name": "stdout",
     "output_type": "stream",
     "text": [
      "https://maps.googleapis.com/maps/api/place/nearbysearch/json?location=37.566879,-122.323895&radius=1000&keyword=vegan\n",
      "https://maps.googleapis.com/maps/api/place/nearbysearch/json?location=40.757929,-73.985506&radius=1000&keyword=vegan\n",
      "https://maps.googleapis.com/maps/api/place/nearbysearch/json?location=53.707739,10.023246&radius=1000&keyword=vegan\n",
      "https://maps.googleapis.com/maps/api/place/nearbysearch/json?location=37.5645375,-122.3254705&radius=1000&keyword=vegan\n",
      "https://maps.googleapis.com/maps/api/place/nearbysearch/json?location=37.772323,-122.214897&radius=1000&keyword=vegan\n",
      "https://maps.googleapis.com/maps/api/place/nearbysearch/json?location=53.544711,-113.515769&radius=1000&keyword=vegan\n",
      "https://maps.googleapis.com/maps/api/place/nearbysearch/json?location=37.412069,-121.900366&radius=1000&keyword=vegan\n",
      "https://maps.googleapis.com/maps/api/place/nearbysearch/json?location=37.78424,-122.274771&radius=1000&keyword=vegan\n",
      "https://maps.googleapis.com/maps/api/place/nearbysearch/json?location=49.263588,-123.138565&radius=1000&keyword=vegan\n",
      "https://maps.googleapis.com/maps/api/place/nearbysearch/json?location=44.859587,-93.226503&radius=1000&keyword=vegan\n",
      "https://maps.googleapis.com/maps/api/place/nearbysearch/json?location=47.3912899,8.5082891&radius=1000&keyword=vegan\n",
      "https://maps.googleapis.com/maps/api/place/nearbysearch/json?location=42.330165,-83.045913&radius=1000&keyword=vegan\n",
      "https://maps.googleapis.com/maps/api/place/nearbysearch/json?location=33.989029,-118.462421&radius=1000&keyword=vegan\n",
      "https://maps.googleapis.com/maps/api/place/nearbysearch/json?location=59.337864,18.036587&radius=1000&keyword=vegan\n",
      "https://maps.googleapis.com/maps/api/place/nearbysearch/json?location=40.714056,-73.957854&radius=1000&keyword=vegan\n",
      "https://maps.googleapis.com/maps/api/place/nearbysearch/json?location=40.768058,-73.956599&radius=1000&keyword=vegan\n",
      "https://maps.googleapis.com/maps/api/place/nearbysearch/json?location=33.989029,-118.462421&radius=1000&keyword=vegan\n",
      "https://maps.googleapis.com/maps/api/place/nearbysearch/json?location=42.330165,-83.045913&radius=1000&keyword=vegan\n",
      "https://maps.googleapis.com/maps/api/place/nearbysearch/json?location=59.337864,18.036587&radius=1000&keyword=vegan\n",
      "https://maps.googleapis.com/maps/api/place/nearbysearch/json?location=40.714056,-73.957854&radius=1000&keyword=vegan\n",
      "https://maps.googleapis.com/maps/api/place/nearbysearch/json?location=40.768058,-73.956599&radius=1000&keyword=vegan\n",
      "https://maps.googleapis.com/maps/api/place/nearbysearch/json?location=37.55909,-122.321836&radius=1000&keyword=vegan\n",
      "https://maps.googleapis.com/maps/api/place/nearbysearch/json?location=43.068006,-89.39256&radius=1000&keyword=vegan\n",
      "https://maps.googleapis.com/maps/api/place/nearbysearch/json?location=46.2121463,6.1503245&radius=1000&keyword=vegan\n",
      "https://maps.googleapis.com/maps/api/place/nearbysearch/json?location=61.216583,-149.899597&radius=1000&keyword=vegan\n",
      "https://maps.googleapis.com/maps/api/place/nearbysearch/json?location=40.7645772,-73.9799007&radius=1000&keyword=vegan\n",
      "https://maps.googleapis.com/maps/api/place/nearbysearch/json?location=25.5230058,-103.4174464&radius=1000&keyword=vegan\n",
      "https://maps.googleapis.com/maps/api/place/nearbysearch/json?location=37.317649,-121.948532&radius=1000&keyword=vegan\n",
      "https://maps.googleapis.com/maps/api/place/nearbysearch/json?location=38.9169394,-77.0852258&radius=1000&keyword=vegan\n",
      "https://maps.googleapis.com/maps/api/place/nearbysearch/json?location=37.317735,-121.949417&radius=1000&keyword=vegan\n",
      "https://maps.googleapis.com/maps/api/place/nearbysearch/json?location=35.8535092,-78.8267112&radius=1000&keyword=vegan\n",
      "https://maps.googleapis.com/maps/api/place/nearbysearch/json?location=33.92854,-118.397818&radius=1000&keyword=vegan\n",
      "https://maps.googleapis.com/maps/api/place/nearbysearch/json?location=42.3983662,-71.0213788&radius=1000&keyword=vegan\n",
      "https://maps.googleapis.com/maps/api/place/nearbysearch/json?location=40.7454098,-73.9822211&radius=1000&keyword=vegan\n",
      "https://maps.googleapis.com/maps/api/place/nearbysearch/json?location=40.778334,-73.9453758&radius=1000&keyword=vegan\n",
      "https://maps.googleapis.com/maps/api/place/nearbysearch/json?location=42.362856,-71.083762&radius=1000&keyword=vegan\n",
      "https://maps.googleapis.com/maps/api/place/nearbysearch/json?location=49.2685125,-123.1783566&radius=1000&keyword=vegan\n",
      "https://maps.googleapis.com/maps/api/place/nearbysearch/json?location=33.989029,-118.462421&radius=1000&keyword=vegan\n",
      "https://maps.googleapis.com/maps/api/place/nearbysearch/json?location=42.3584308,-71.0597732&radius=1000&keyword=vegan\n",
      "https://maps.googleapis.com/maps/api/place/nearbysearch/json?location=53.5736401,10.0184565&radius=1000&keyword=vegan\n",
      "https://maps.googleapis.com/maps/api/place/nearbysearch/json?location=41.259751,-95.942336&radius=1000&keyword=vegan\n",
      "https://maps.googleapis.com/maps/api/place/nearbysearch/json?location=42.364014,-71.101375&radius=1000&keyword=vegan\n",
      "https://maps.googleapis.com/maps/api/place/nearbysearch/json?location=38.2571486,-85.7617724&radius=1000&keyword=vegan\n",
      "https://maps.googleapis.com/maps/api/place/nearbysearch/json?location=-23.5489433,-46.6388182&radius=1000&keyword=vegan\n",
      "https://maps.googleapis.com/maps/api/place/nearbysearch/json?location=37.772323,-122.214897&radius=1000&keyword=vegan\n",
      "https://maps.googleapis.com/maps/api/place/nearbysearch/json?location=32.8270045,-96.8432224&radius=1000&keyword=vegan\n",
      "https://maps.googleapis.com/maps/api/place/nearbysearch/json?location=40.746417,-73.983171&radius=1000&keyword=vegan\n",
      "https://maps.googleapis.com/maps/api/place/nearbysearch/json?location=55.6802318,12.524884&radius=1000&keyword=vegan\n",
      "https://maps.googleapis.com/maps/api/place/nearbysearch/json?location=55.6770321,12.5751278&radius=1000&keyword=vegan\n",
      "https://maps.googleapis.com/maps/api/place/nearbysearch/json?location=40.756054,-73.986951&radius=1000&keyword=vegan\n",
      "https://maps.googleapis.com/maps/api/place/nearbysearch/json?location=45.523875,-122.670399&radius=1000&keyword=vegan\n",
      "https://maps.googleapis.com/maps/api/place/nearbysearch/json?location=42.3647559,-71.1032591&radius=1000&keyword=vegan\n",
      "https://maps.googleapis.com/maps/api/place/nearbysearch/json?location=-23.5815208,-46.6773686&radius=1000&keyword=vegan\n",
      "https://maps.googleapis.com/maps/api/place/nearbysearch/json?location=49.261226,-123.1139268&radius=1000&keyword=vegan\n",
      "https://maps.googleapis.com/maps/api/place/nearbysearch/json?location=53.5688101,9.9819779&radius=1000&keyword=vegan\n",
      "https://maps.googleapis.com/maps/api/place/nearbysearch/json?location=26.706239,-80.0520862&radius=1000&keyword=vegan\n",
      "https://maps.googleapis.com/maps/api/place/nearbysearch/json?location=37.5646055,-122.3229235&radius=1000&keyword=vegan\n",
      "https://maps.googleapis.com/maps/api/place/nearbysearch/json?location=38.7071631,-9.135517&radius=1000&keyword=vegan\n",
      "https://maps.googleapis.com/maps/api/place/nearbysearch/json?location=42.3406534,-71.0680027&radius=1000&keyword=vegan\n",
      "https://maps.googleapis.com/maps/api/place/nearbysearch/json?location=43.264499,-2.9308322&radius=1000&keyword=vegan\n",
      "https://maps.googleapis.com/maps/api/place/nearbysearch/json?location=53.5622698,9.9490139&radius=1000&keyword=vegan\n",
      "https://maps.googleapis.com/maps/api/place/nearbysearch/json?location=25.774252,-80.190262&radius=1000&keyword=vegan\n",
      "https://maps.googleapis.com/maps/api/place/nearbysearch/json?location=40.756054,-73.986951&radius=1000&keyword=vegan\n",
      "https://maps.googleapis.com/maps/api/place/nearbysearch/json?location=37.320052,-121.877636&radius=1000&keyword=vegan\n",
      "https://maps.googleapis.com/maps/api/place/nearbysearch/json?location=26.0607497,-80.1899371&radius=1000&keyword=vegan\n",
      "https://maps.googleapis.com/maps/api/place/nearbysearch/json?location=41.581232,-93.621998&radius=1000&keyword=vegan\n",
      "https://maps.googleapis.com/maps/api/place/nearbysearch/json?location=37.6656476,-122.3843489&radius=1000&keyword=vegan\n",
      "https://maps.googleapis.com/maps/api/place/nearbysearch/json?location=32.781078,-96.797111&radius=1000&keyword=vegan\n",
      "https://maps.googleapis.com/maps/api/place/nearbysearch/json?location=38.905504,-77.05681&radius=1000&keyword=vegan\n",
      "https://maps.googleapis.com/maps/api/place/nearbysearch/json?location=42.3672873,-71.0814466&radius=1000&keyword=vegan\n"
     ]
    },
    {
     "name": "stdout",
     "output_type": "stream",
     "text": [
      "https://maps.googleapis.com/maps/api/place/nearbysearch/json?location=25.723408,-80.306331&radius=1000&keyword=vegan\n",
      "https://maps.googleapis.com/maps/api/place/nearbysearch/json?location=37.369195,-122.036849&radius=1000&keyword=vegan\n"
     ]
    }
   ],
   "source": [
    "db, vegan = F.connectMongo('vegan')\n",
    "vegans = []\n",
    "vegan_lista = F.near_place(companies, 1000, 'vegan',vegan, vegans)"
   ]
  },
  {
   "cell_type": "markdown",
   "metadata": {},
   "source": [
    "Merging companies dataframe with vegan restaurants and school coordinates"
   ]
  },
  {
   "cell_type": "code",
   "execution_count": 7,
   "metadata": {},
   "outputs": [],
   "source": [
    "vegan_df = pd.DataFrame(vegans)\n",
    "school_df = pd.DataFrame(schools)"
   ]
  },
  {
   "cell_type": "code",
   "execution_count": 25,
   "metadata": {},
   "outputs": [],
   "source": [
    "merged = companies.merge(vegan_df, left_on='_id', right_on='id')\n",
    "merged = merged.merge(school_df, left_on='_id_x', right_on='id')\n",
    "merged = merged.drop(columns = ['id_x','_id_y','id_y','_id'])"
   ]
  },
  {
   "cell_type": "code",
   "execution_count": 9,
   "metadata": {},
   "outputs": [],
   "source": [
    "dist = merged[['airports','starbucks','location_x','location','location_y']].rename(columns ={'location_x':'location_companies','location':'location_schools','location_y':'location_vegan'})\n",
    "dist = F.CleanDataFrame(dist,'airports').rename(columns={'location':'location_airports'})\n",
    "dist = F.CleanDataFrame(dist,'starbucks').rename(columns={'location':'location_starbucks'})"
   ]
  },
  {
   "cell_type": "markdown",
   "metadata": {},
   "source": [
    "Calculate distances using haversine function for each coordinate"
   ]
  },
  {
   "cell_type": "code",
   "execution_count": 10,
   "metadata": {},
   "outputs": [],
   "source": [
    "dist = dist[['location_companies','location_schools','location_vegan','location_airports','location_starbucks']]\n",
    "for i, row in dist.iterrows():\n",
    "    for e in range(1,len(row)):\n",
    "        distance = F.haversine(row[0]['coordinates'][1],row[0]['coordinates'][0],row[e]['coordinates'][1],row[e]['coordinates'][0])\n",
    "        dist.loc[i,f'distance{e}'] = distance\n"
   ]
  },
  {
   "cell_type": "code",
   "execution_count": 23,
   "metadata": {},
   "outputs": [
    {
     "data": {
      "text/plain": [
       "[-122.323895, 37.566879]"
      ]
     },
     "execution_count": 23,
     "metadata": {},
     "output_type": "execute_result"
    }
   ],
   "source": [
    "dist.to_json('../OUTPUT/distances.json', orient = \"records\")\n",
    "merged.to_json('../OUTPUT/merged.json', orient=\"records\")"
   ]
  }
 ],
 "metadata": {
  "kernelspec": {
   "display_name": "Python 3",
   "language": "python",
   "name": "python3"
  },
  "language_info": {
   "codemirror_mode": {
    "name": "ipython",
    "version": 3
   },
   "file_extension": ".py",
   "mimetype": "text/x-python",
   "name": "python",
   "nbconvert_exporter": "python",
   "pygments_lexer": "ipython3",
   "version": "3.7.5"
  }
 },
 "nbformat": 4,
 "nbformat_minor": 4
}
