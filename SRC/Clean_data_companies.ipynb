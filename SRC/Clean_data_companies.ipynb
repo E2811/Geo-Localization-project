{
 "cells": [
  {
   "cell_type": "markdown",
   "metadata": {},
   "source": [
    "# Clean data and update company collection"
   ]
  },
  {
   "cell_type": "code",
   "execution_count": 1,
   "metadata": {},
   "outputs": [],
   "source": [
    "from pymongo import MongoClient\n",
    "import pandas as pd\n",
    "import functions as F"
   ]
  },
  {
   "cell_type": "code",
   "execution_count": 2,
   "metadata": {},
   "outputs": [],
   "source": [
    "client = MongoClient(\"mongodb://localhost/companies\")\n",
    "db = client.get_database()"
   ]
  },
  {
   "cell_type": "code",
   "execution_count": 3,
   "metadata": {},
   "outputs": [],
   "source": [
    "projection = {\"name\":1,\"offices\":1,\"category_code\":1, \"founded_year\":1}\n",
    "offices = list(db.companies.find({\"$and\":[{\"deadpooled_year\":None},\n",
    "                                        {\"founded_year\":{\"$gte\":2009}}]},projection))\n"
   ]
  },
  {
   "cell_type": "code",
   "execution_count": 4,
   "metadata": {},
   "outputs": [],
   "source": [
    "df = pd.DataFrame(offices)"
   ]
  },
  {
   "cell_type": "code",
   "execution_count": 5,
   "metadata": {},
   "outputs": [],
   "source": [
    "cleanData = F.CleanDataFrame(df,\"offices\")\n",
    "cleanData = cleanData.drop(columns=[\"_id\",\"offices\"])\n",
    "cleanData[\"location\"] = cleanData[[\"latitude\"\n",
    "                                   ,\"longitude\"]].apply(lambda x:F.asGeoJSON(x.longitude,x.latitude), axis=1)\n",
    "cleanData[[\"latitude\",\"longitude\",\"location\"]]\n",
    "cleanData = cleanData.drop(columns=[\"latitude\",\"longitude\"])"
   ]
  },
  {
   "cell_type": "code",
   "execution_count": 11,
   "metadata": {},
   "outputs": [],
   "source": [
    "cleanData.to_json(\"../OUTPUT/cleaned_companies.json\", orient=\"records\")\n",
    "# mongoimport --db companies --collection clean_companies --OUTPUT/cleaned_companies --jsonArray"
   ]
  },
  {
   "cell_type": "code",
   "execution_count": 34,
   "metadata": {},
   "outputs": [],
   "source": [
    "offices = list(db.cleaned_companies.find({}))\n",
    "count = 0\n",
    "for i in offices:\n",
    "    if type(i['location']['coordinates'][0])==type(None):\n",
    "        db.cleaned_companies.delete_one(i)"
   ]
  }
 ],
 "metadata": {
  "kernelspec": {
   "display_name": "Python 3",
   "language": "python",
   "name": "python3"
  },
  "language_info": {
   "codemirror_mode": {
    "name": "ipython",
    "version": 3
   },
   "file_extension": ".py",
   "mimetype": "text/x-python",
   "name": "python",
   "nbconvert_exporter": "python",
   "pygments_lexer": "ipython3",
   "version": "3.7.5"
  }
 },
 "nbformat": 4,
 "nbformat_minor": 4
}
