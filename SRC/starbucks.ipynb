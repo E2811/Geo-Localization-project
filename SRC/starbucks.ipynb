{
 "cells": [
  {
   "cell_type": "markdown",
   "metadata": {},
   "source": [
    "# Create starbucks collection with geolocalization"
   ]
  },
  {
   "cell_type": "code",
   "execution_count": 1,
   "metadata": {},
   "outputs": [],
   "source": [
    "# mongoimport --db companies --collection starbucks --type csv --headerline --file INPUT/directory.csv\n",
    "from pymongo import MongoClient\n",
    "import pandas as pd\n",
    "import functions as F"
   ]
  },
  {
   "cell_type": "code",
   "execution_count": 2,
   "metadata": {},
   "outputs": [],
   "source": [
    "db = 'companies'\n",
    "client = MongoClient(\"mongodb://localhost/companies\")\n",
    "db = client.get_database()\n",
    "starbuck = db.starbucks"
   ]
  },
  {
   "cell_type": "code",
   "execution_count": 6,
   "metadata": {},
   "outputs": [],
   "source": [
    "projection = {\"name\":1,\"City\":1,\"Longitude\":1, \"Latitude\":1}\n",
    "starbucks = list(starbuck.find({},projection))"
   ]
  },
  {
   "cell_type": "code",
   "execution_count": 5,
   "metadata": {},
   "outputs": [],
   "source": [
    "for s in starbucks:\n",
    "    F.insertGeoLocation(s['Longitude'],s['Latitude'], starbuck,s)"
   ]
  }
 ],
 "metadata": {
  "kernelspec": {
   "display_name": "Python 3",
   "language": "python",
   "name": "python3"
  },
  "language_info": {
   "codemirror_mode": {
    "name": "ipython",
    "version": 3
   },
   "file_extension": ".py",
   "mimetype": "text/x-python",
   "name": "python",
   "nbconvert_exporter": "python",
   "pygments_lexer": "ipython3",
   "version": "3.7.5"
  }
 },
 "nbformat": 4,
 "nbformat_minor": 4
}
